{
  "nbformat": 4,
  "nbformat_minor": 0,
  "metadata": {
    "colab": {
      "name": "Module 5 HW.ipynb",
      "provenance": [],
      "collapsed_sections": [],
      "authorship_tag": "ABX9TyPpobIFmVhf7n7TqwKIxaz+",
      "include_colab_link": true
    },
    "kernelspec": {
      "name": "python3",
      "display_name": "Python 3"
    }
  },
  "cells": [
    {
      "cell_type": "markdown",
      "metadata": {
        "id": "view-in-github",
        "colab_type": "text"
      },
      "source": [
        "<a href=\"https://colab.research.google.com/github/MatthewPelter/BCS109/blob/master/Module_5_HW.ipynb\" target=\"_parent\"><img src=\"https://colab.research.google.com/assets/colab-badge.svg\" alt=\"Open In Colab\"/></a>"
      ]
    },
    {
      "cell_type": "markdown",
      "metadata": {
        "id": "BoGxC1Md5VDM"
      },
      "source": [
        "# #1"
      ]
    },
    {
      "cell_type": "code",
      "metadata": {
        "id": "LB0buPlJMeJc",
        "outputId": "0891da25-0417-471e-d593-83aa456a65fd",
        "colab": {
          "base_uri": "https://localhost:8080/",
          "height": 170
        }
      },
      "source": [
        "name = str(input(\"Please enter your name:\\n\"))\n",
        "age = -1\n",
        "tries = 0\n",
        "\n",
        "while age < 0 or age > 100:\n",
        "  tries+=1\n",
        "  if tries > 3:\n",
        "    age = 0\n",
        "    break\n",
        "  else:\n",
        "    try:\n",
        "      age = int(input(\"Please enter your age:\\n\"))\n",
        "    except:\n",
        "      print(\"Age must be a number.\\n\")\n",
        "\n",
        "if age == 0:\n",
        "  print(\"Unacceptable\")\n",
        "else:\n",
        "  print(\"Acceptable\")"
      ],
      "execution_count": 11,
      "outputs": [
        {
          "output_type": "stream",
          "text": [
            "Please enter your name:\n",
            "Matthew\n",
            "Please enter your age:\n",
            "no\n",
            "Age must be a number.\n",
            "\n",
            "Please enter your age:\n",
            "20\n",
            "Acceptable\n"
          ],
          "name": "stdout"
        }
      ]
    },
    {
      "cell_type": "markdown",
      "metadata": {
        "id": "Ok04nMuq5ezr"
      },
      "source": [
        "# #2"
      ]
    },
    {
      "cell_type": "code",
      "metadata": {
        "id": "GRd45n2dPss9",
        "outputId": "94786d3a-33c6-48f0-bd3c-5ebfe351ccf2",
        "colab": {
          "base_uri": "https://localhost:8080/",
          "height": 255
        }
      },
      "source": [
        "password = \"\"\n",
        "validPassword = False\n",
        "\n",
        "while validPassword == False:\n",
        "  password = input(\"Please enter your password:\\n\")\n",
        "  hasNum = False\n",
        "  hasUpper = False\n",
        "  hasLower = False\n",
        "  hasSpecial = False\n",
        "  specialCharacters = [\"@\", \"#\", \"!\", \"$\", \"%\", \"^\", \"&\", \"*\"]\n",
        "\n",
        "  for x in password:\n",
        "    if x.isdigit():\n",
        "      hasNum = True\n",
        "    if x.isupper():\n",
        "      hasUpper = True\n",
        "    if x.islower():\n",
        "      hasLower = True \n",
        "    for special in specialCharacters:\n",
        "      if special == x:\n",
        "        hasSpecial = True\n",
        "\n",
        "    if len(password) < 8:\n",
        "      print(\"Password is not long enough.\\n\")\n",
        "\n",
        "    if hasNum == hasUpper == hasLower == hasSpecial == True:\n",
        "      validPassword = True\n",
        "\n",
        "  if hasNum == False:\n",
        "    print(\"You need a number.\\n\")\n",
        "  if hasUpper == False:\n",
        "    print(\"You need an uppercase.\\n\")\n",
        "  if hasLower == False:\n",
        "    print(\"You need a lowercase.\\n\")\n",
        "  if hasSpecial == False:\n",
        "    print(\"You need a special character.\\n\")\n",
        "\n",
        "\n",
        "if validPassword == True: \n",
        "  print(\"Your password is valid.\\n\")"
      ],
      "execution_count": 33,
      "outputs": [
        {
          "output_type": "stream",
          "text": [
            "Please enter your password:\n",
            "Password\n",
            "You need a number.\n",
            "\n",
            "You need a special character.\n",
            "\n",
            "Please enter your password:\n",
            "Password123\n",
            "You need a special character.\n",
            "\n",
            "Please enter your password:\n",
            "Password123*\n",
            "Your password is valid.\n",
            "\n"
          ],
          "name": "stdout"
        }
      ]
    },
    {
      "cell_type": "markdown",
      "metadata": {
        "id": "3HtOPNwY5g_l"
      },
      "source": [
        "# #3"
      ]
    },
    {
      "cell_type": "code",
      "metadata": {
        "id": "EIKTecczYoh_",
        "outputId": "48bfade7-ea7c-48eb-f733-3eaa594766ff",
        "colab": {
          "base_uri": "https://localhost:8080/",
          "height": 54
        }
      },
      "source": [
        "for i in range(1000):\n",
        "  if i % 10 == 3:\n",
        "    print(i, end=\" | \")"
      ],
      "execution_count": 38,
      "outputs": [
        {
          "output_type": "stream",
          "text": [
            "3 | 13 | 23 | 33 | 43 | 53 | 63 | 73 | 83 | 93 | 103 | 113 | 123 | 133 | 143 | 153 | 163 | 173 | 183 | 193 | 203 | 213 | 223 | 233 | 243 | 253 | 263 | 273 | 283 | 293 | 303 | 313 | 323 | 333 | 343 | 353 | 363 | 373 | 383 | 393 | 403 | 413 | 423 | 433 | 443 | 453 | 463 | 473 | 483 | 493 | 503 | 513 | 523 | 533 | 543 | 553 | 563 | 573 | 583 | 593 | 603 | 613 | 623 | 633 | 643 | 653 | 663 | 673 | 683 | 693 | 703 | 713 | 723 | 733 | 743 | 753 | 763 | 773 | 783 | 793 | 803 | 813 | 823 | 833 | 843 | 853 | 863 | 873 | 883 | 893 | 903 | 913 | 923 | 933 | 943 | 953 | 963 | 973 | 983 | 993 | "
          ],
          "name": "stdout"
        }
      ]
    },
    {
      "cell_type": "markdown",
      "metadata": {
        "id": "wtN9QoDL6bje"
      },
      "source": [
        "# #4"
      ]
    },
    {
      "cell_type": "code",
      "metadata": {
        "id": "_hR40He86dRH",
        "outputId": "367f1f5b-886e-4b5d-ac19-01fe985257b2",
        "colab": {
          "base_uri": "https://localhost:8080/",
          "height": 54
        }
      },
      "source": [
        "num = 100\n",
        "\n",
        "while num > 0:\n",
        "  if num % 2 == 0:\n",
        "    print(num, end=\" | \")\n",
        "\n",
        "  num = num - 1"
      ],
      "execution_count": 43,
      "outputs": [
        {
          "output_type": "stream",
          "text": [
            "100 | 98 | 96 | 94 | 92 | 90 | 88 | 86 | 84 | 82 | 80 | 78 | 76 | 74 | 72 | 70 | 68 | 66 | 64 | 62 | 60 | 58 | 56 | 54 | 52 | 50 | 48 | 46 | 44 | 42 | 40 | 38 | 36 | 34 | 32 | 30 | 28 | 26 | 24 | 22 | 20 | 18 | 16 | 14 | 12 | 10 | 8 | 6 | 4 | 2 | "
          ],
          "name": "stdout"
        }
      ]
    },
    {
      "cell_type": "markdown",
      "metadata": {
        "id": "-5haaHW37I65"
      },
      "source": [
        "# #5"
      ]
    },
    {
      "cell_type": "code",
      "metadata": {
        "id": "MXOShsEU7LQJ",
        "outputId": "122f5594-13e2-4c80-d24c-6dda08e6e387",
        "colab": {
          "base_uri": "https://localhost:8080/",
          "height": 54
        }
      },
      "source": [
        "for i in range(100, 1000):\n",
        "  isPrime = True\n",
        "  for j in range(2, i):\n",
        "    if i % j == 0:\n",
        "      isPrime = False\n",
        "      break\n",
        "\n",
        "\n",
        "  if isPrime:\n",
        "    print(i, end=\" | \")     "
      ],
      "execution_count": 46,
      "outputs": [
        {
          "output_type": "stream",
          "text": [
            "101 | 103 | 107 | 109 | 113 | 127 | 131 | 137 | 139 | 149 | 151 | 157 | 163 | 167 | 173 | 179 | 181 | 191 | 193 | 197 | 199 | 211 | 223 | 227 | 229 | 233 | 239 | 241 | 251 | 257 | 263 | 269 | 271 | 277 | 281 | 283 | 293 | 307 | 311 | 313 | 317 | 331 | 337 | 347 | 349 | 353 | 359 | 367 | 373 | 379 | 383 | 389 | 397 | 401 | 409 | 419 | 421 | 431 | 433 | 439 | 443 | 449 | 457 | 461 | 463 | 467 | 479 | 487 | 491 | 499 | 503 | 509 | 521 | 523 | 541 | 547 | 557 | 563 | 569 | 571 | 577 | 587 | 593 | 599 | 601 | 607 | 613 | 617 | 619 | 631 | 641 | 643 | 647 | 653 | 659 | 661 | 673 | 677 | 683 | 691 | 701 | 709 | 719 | 727 | 733 | 739 | 743 | 751 | 757 | 761 | 769 | 773 | 787 | 797 | 809 | 811 | 821 | 823 | 827 | 829 | 839 | 853 | 857 | 859 | 863 | 877 | 881 | 883 | 887 | 907 | 911 | 919 | 929 | 937 | 941 | 947 | 953 | 967 | 971 | 977 | 983 | 991 | 997 | "
          ],
          "name": "stdout"
        }
      ]
    }
  ]
}