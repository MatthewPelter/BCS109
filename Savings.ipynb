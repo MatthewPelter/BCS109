{
  "nbformat": 4,
  "nbformat_minor": 0,
  "metadata": {
    "colab": {
      "name": "Savings.ipynb",
      "provenance": [],
      "collapsed_sections": [],
      "authorship_tag": "ABX9TyPht7W1b2nscXwHcAzXBmY+",
      "include_colab_link": true
    },
    "kernelspec": {
      "name": "python3",
      "display_name": "Python 3"
    }
  },
  "cells": [
    {
      "cell_type": "markdown",
      "metadata": {
        "id": "view-in-github",
        "colab_type": "text"
      },
      "source": [
        "<a href=\"https://colab.research.google.com/github/MatthewPelter/BCS109/blob/master/Savings.ipynb\" target=\"_parent\"><img src=\"https://colab.research.google.com/assets/colab-badge.svg\" alt=\"Open In Colab\"/></a>"
      ]
    },
    {
      "cell_type": "markdown",
      "metadata": {
        "id": "M7jhzO6-zVKF",
        "colab_type": "text"
      },
      "source": [
        "# Present Value\n",
        "The code below calculates the present value of an investment by asking the user for the future value, interest, and time in years.\n",
        "The formula to calculate the present value is\n",
        "\n",
        "PV = FV / (1 + INTEREST)<sup>years</sup>"
      ]
    },
    {
      "cell_type": "code",
      "metadata": {
        "id": "bcku3qQ2xCkI",
        "colab_type": "code",
        "colab": {
          "base_uri": "https://localhost:8080/",
          "height": 85
        },
        "outputId": "0d144012-22c3-49c5-de69-1ce4b5122b1b"
      },
      "source": [
        "future = float(input(\"Please enter the future value: \"))\n",
        "interest = float(input(\"Please enter the interest rate (%): \"))\n",
        "time = int(input(\"Please enter the time (Years): \"))\n",
        "\n",
        "present = future / (1.0 + (interest/100)) ** time\n",
        "print(\"The present value that is needed is: \", present)"
      ],
      "execution_count": 3,
      "outputs": [
        {
          "output_type": "stream",
          "text": [
            "Please enter the future value: 10000\n",
            "Please enter the interest: 0.05\n",
            "Please enter the time (Years): 16\n",
            "The present value that is needed is:  4581.115219914001\n"
          ],
          "name": "stdout"
        }
      ]
    },
    {
      "cell_type": "markdown",
      "metadata": {
        "id": "kMVWPViy0hit",
        "colab_type": "text"
      },
      "source": [
        "# Future Value\n",
        "The code below does the opposite of the one above. This will calculate the future value of the money invested. The user will provide the future value, the interest rate, and the time in years.\n",
        "\n",
        "The formula to calculate the future value is:\n",
        "\n",
        "FV = PV * (1 + INTEREST) <sup>years</sup>"
      ]
    },
    {
      "cell_type": "code",
      "metadata": {
        "id": "IpADNLE3xElv",
        "colab_type": "code",
        "colab": {
          "base_uri": "https://localhost:8080/",
          "height": 85
        },
        "outputId": "fb7beb3d-77f4-4e8f-e364-30cf35c882fc"
      },
      "source": [
        "present = float(input(\"Please enter the present value: \"))\n",
        "interest = float(input(\"Please enter the interest rate (%): \"))\n",
        "time = int(input(\"Please enter the time (Years): \"))\n",
        "\n",
        "future = present * (1.0 + (interest/100)) ** time\n",
        "print(\"The future value would be: \", future)"
      ],
      "execution_count": 6,
      "outputs": [
        {
          "output_type": "stream",
          "text": [
            "Please enter the present value: 100\n",
            "Please enter the interest rate (%): 5\n",
            "Please enter the time (Years): 5\n",
            "The future value would be:  127.62815625000003\n"
          ],
          "name": "stdout"
        }
      ]
    }
  ]
}