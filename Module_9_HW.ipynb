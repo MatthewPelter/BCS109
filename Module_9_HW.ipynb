{
  "nbformat": 4,
  "nbformat_minor": 0,
  "metadata": {
    "colab": {
      "name": "Module 9 HW.ipynb",
      "provenance": [],
      "collapsed_sections": [],
      "authorship_tag": "ABX9TyOVC/L8CiaNffmXl+AwLt+4",
      "include_colab_link": true
    },
    "kernelspec": {
      "name": "python3",
      "display_name": "Python 3"
    }
  },
  "cells": [
    {
      "cell_type": "markdown",
      "metadata": {
        "id": "view-in-github",
        "colab_type": "text"
      },
      "source": [
        "<a href=\"https://colab.research.google.com/github/MatthewPelter/BCS109/blob/master/Module_9_HW.ipynb\" target=\"_parent\"><img src=\"https://colab.research.google.com/assets/colab-badge.svg\" alt=\"Open In Colab\"/></a>"
      ]
    },
    {
      "cell_type": "markdown",
      "metadata": {
        "id": "M--dSHwrs49f"
      },
      "source": [
        "1) Create functions to do the following: max, min, average, standard deviation, and geometric average."
      ]
    },
    {
      "cell_type": "code",
      "metadata": {
        "id": "Q-fbZM91ncXf",
        "outputId": "dfcf7d2d-95dc-4a2c-c068-03ebccff2d37",
        "colab": {
          "base_uri": "https://localhost:8080/"
        }
      },
      "source": [
        "import math as m\n",
        "def max(arr):\n",
        "  max = 0\n",
        "  for x in arr:\n",
        "    if x > max:\n",
        "      max = x\n",
        "  return max\n",
        "\n",
        "def min(arr):\n",
        "  min = arr[0]\n",
        "  for x in arr:\n",
        "    if x < min:\n",
        "      min = x\n",
        "  return min\n",
        "\n",
        "def average(arr):\n",
        "  avg = 0\n",
        "  for x in arr:\n",
        "    avg+=x\n",
        "  avg /= len(arr)\n",
        "  return avg\n",
        "\n",
        "def standarDeviation(arr):\n",
        "  v = 0\n",
        "  avg = average(arr)\n",
        "  for x in arr:\n",
        "    v += (x-avg)**2\n",
        "  sd = v/len(arr)\n",
        "  return m.sqrt(sd)\n",
        "\n",
        "def geometricMean(arr):\n",
        "  gm = 1\n",
        "  for x in arr:\n",
        "    gm *= x\n",
        "  return gm**(1/len(arr))\n",
        "\n",
        "nums = [100, 54, 6, 9, 81, 12]\n",
        "\n",
        "max = max(nums)\n",
        "min = min(nums)\n",
        "avg = average(nums)\n",
        "sd = standarDeviation(nums)\n",
        "gm = geometricMean(nums)\n",
        "\n",
        "print(\"Max:\", max)\n",
        "print(\"Min:\", min)\n",
        "print(\"Average:\", avg)\n",
        "print(\"Standard Deviation:\", sd)\n",
        "print(\"Geometric Mean:\", gm)"
      ],
      "execution_count": null,
      "outputs": [
        {
          "output_type": "stream",
          "text": [
            "Max: 100\n",
            "Min: 6\n",
            "Average: 43.666666666666664\n",
            "Standard Deviation: 37.1872140511882\n",
            "Geometric Mean: 25.629627689881236\n"
          ],
          "name": "stdout"
        }
      ]
    },
    {
      "cell_type": "markdown",
      "metadata": {
        "id": "8om5v1l9s_08"
      },
      "source": [
        "2) Create a function that asks the user which shape they would like to analyze. It should then call other functions based on this and return the area of the shape.  The triangle function should take in the base and height, the circle function should take in the radius, and the square function should take in the side length."
      ]
    },
    {
      "cell_type": "code",
      "metadata": {
        "id": "pyn9EeGatDFV",
        "outputId": "b5bad8b2-3cb9-46f5-e2d3-774d8b429219",
        "colab": {
          "base_uri": "https://localhost:8080/"
        }
      },
      "source": [
        "import math as m\n",
        "\n",
        "shape = input(\"What shape would you like to analyze? \")\n",
        "\n",
        "def circle():\n",
        "  r = int(input(\"Please enter the radius: \"))\n",
        "  return (m.pi * r**2)\n",
        "def triangle():\n",
        "  b = int(input(\"Please enter the base length: \"))\n",
        "  h = int(input(\"Please enter the height: \"))\n",
        "  return ((b*h)/2)\n",
        "def square():\n",
        "  x = int(input(\"Please enter the length: \"))\n",
        "  return x*x\n",
        "\n",
        "# Read the shape regardless of uppercase or lowercase\n",
        "if shape.lower() == \"circle\":\n",
        "  area = circle()\n",
        "  print(\"The area of the circle is:\", area)\n",
        "elif shape.lower() == \"triangle\":\n",
        "  area = triangle()\n",
        "  print(\"The area of the triangle is:\", area)\n",
        "elif shape.lower() == \"square\":\n",
        "  area = square()\n",
        "  print(\"The area of the square is:\", area)\n"
      ],
      "execution_count": null,
      "outputs": [
        {
          "output_type": "stream",
          "text": [
            "What shape would you like to analyze? TRIANGLE\n",
            "Please enter the base length: 15\n",
            "Please enter the height: 10\n",
            "The area of the triangle is: 75.0\n"
          ],
          "name": "stdout"
        }
      ]
    },
    {
      "cell_type": "markdown",
      "metadata": {
        "id": "Ljfz8-Msv6Dk"
      },
      "source": [
        "3) Create a function that takes in a list and returns the list doubled. It should ask the user for option one or two. If the user chooses option one it should return the list doubled such as [1 2 3] becoming [1 2 3 1 2 3], if the user chooses option two then is should return the list such as [1 2 3] becoming [2 4 6]."
      ]
    },
    {
      "cell_type": "code",
      "metadata": {
        "id": "QkEu4mYyu8vv",
        "outputId": "b25d5ef8-2401-4ac5-c5a5-c6de57bd391b",
        "colab": {
          "base_uri": "https://localhost:8080/"
        }
      },
      "source": [
        "def doubler(x):\n",
        "  option = int(input(\"Choose an option (1/2): \"))\n",
        "  if option == 1:\n",
        "    for e in range(len(x)):\n",
        "      x.append(x[e])\n",
        "    return x\n",
        "  elif option == 2:\n",
        "    for e in range(len(x)):\n",
        "      x[e] *= 2\n",
        "    return x\n",
        "  else:\n",
        "    print(\"That's not an option -_-\")\n",
        "\n",
        "d = doubler([1, 2, 3, 5, 6, 7, 8, 9, 10])\n",
        "print(d)"
      ],
      "execution_count": 49,
      "outputs": [
        {
          "output_type": "stream",
          "text": [
            "Choose an option (1/2): 1\n",
            "[1, 2, 3, 5, 6, 7, 8, 9, 10, 1, 2, 3, 5, 6, 7, 8, 9, 10]\n"
          ],
          "name": "stdout"
        }
      ]
    },
    {
      "cell_type": "markdown",
      "metadata": {
        "id": "iZG-6MGuy9bt"
      },
      "source": [
        "4) Create a function that takes in two lists and concatenates the numbers in those lists. For instance, if we have [1 2 3] and [7 8 9], we should return [17 28 39]."
      ]
    },
    {
      "cell_type": "code",
      "metadata": {
        "id": "Y188oH_Fy_5e",
        "outputId": "bc55a4fe-d52b-4b88-a05a-f1265ebd1528",
        "colab": {
          "base_uri": "https://localhost:8080/"
        }
      },
      "source": [
        "def concatLists(l1, l2):\n",
        "  newList = []\n",
        "  for x in range(len(l1)):\n",
        "    num1 = str(l1[x])\n",
        "    num2 = str(l2[x])\n",
        "    concat = num1+num2\n",
        "    newList.append(int(concat))\n",
        "  return newList\n",
        "  \n",
        "combinedList = concatLists([1, 2, 3], [7, 8, 9])\n",
        "print(combinedList)"
      ],
      "execution_count": 51,
      "outputs": [
        {
          "output_type": "stream",
          "text": [
            "[17, 28, 39]\n"
          ],
          "name": "stdout"
        }
      ]
    },
    {
      "cell_type": "markdown",
      "metadata": {
        "id": "xh_bzySA2GIf"
      },
      "source": [
        "5) Create a function that returns a list of primes up until the number passed in. So if 100 is passed in, it should return all the primes up until 100."
      ]
    },
    {
      "cell_type": "code",
      "metadata": {
        "id": "McbojJvE2Imj",
        "outputId": "77af93f7-63a6-4d14-cde5-4ad0295a64b2",
        "colab": {
          "base_uri": "https://localhost:8080/"
        }
      },
      "source": [
        "def primes(num):\n",
        "  for x in range(2, num):\n",
        "    isPrime = True\n",
        "    for y in range(2, x-1):\n",
        "      if (x % y == 0):\n",
        "        isPrime = False\n",
        "    if isPrime:\n",
        "      print(x, end=\" | \")\n",
        "\n",
        "primes(100)"
      ],
      "execution_count": 62,
      "outputs": [
        {
          "output_type": "stream",
          "text": [
            "2 | 3 | 5 | 7 | 11 | 13 | 17 | 19 | 23 | 29 | 31 | 37 | 41 | 43 | 47 | 53 | 59 | 61 | 67 | 71 | 73 | 79 | 83 | 89 | 97 | "
          ],
          "name": "stdout"
        }
      ]
    },
    {
      "cell_type": "markdown",
      "metadata": {
        "id": "-TohFspG3e0N"
      },
      "source": [
        "6) Write a function calculation() such that it can accept two variables and calculate the addition and subtraction of it. And also it must return both addition and subtraction in a single return call"
      ]
    },
    {
      "cell_type": "code",
      "metadata": {
        "id": "5C2Yg9Z43hgs",
        "outputId": "d426e388-11a5-4b2f-d25c-934462fe2c1d",
        "colab": {
          "base_uri": "https://localhost:8080/"
        }
      },
      "source": [
        "def calculation(x, y):\n",
        "  return x+y, x-y\n",
        "\n",
        "calcs = calculation(1, 1)\n",
        "print(calcs)"
      ],
      "execution_count": 63,
      "outputs": [
        {
          "output_type": "stream",
          "text": [
            "(2, 0)\n"
          ],
          "name": "stdout"
        }
      ]
    },
    {
      "cell_type": "markdown",
      "metadata": {
        "id": "1BXQHuwB4GJY"
      },
      "source": [
        "7) If we list all the natural numbers below 10 that are multiples of 3 or 5, we get 3, 5, 6 and 9. The sum of these multiples is 23.Find the sum of all the multiples of 3 or 5 below 1000."
      ]
    },
    {
      "cell_type": "code",
      "metadata": {
        "id": "6W-LXMFR4IPA",
        "outputId": "b73a1932-fbcf-45b3-f370-c487877ace48",
        "colab": {
          "base_uri": "https://localhost:8080/"
        }
      },
      "source": [
        "def mults(num):\n",
        "  sum = 0\n",
        "  for x in range(1, num):\n",
        "    if (x % 3 == 0 or x % 5 == 0):\n",
        "      sum += x\n",
        "      #print(x)\n",
        "  return sum\n",
        "\n",
        "x = mults(1000)\n",
        "print(x)"
      ],
      "execution_count": 74,
      "outputs": [
        {
          "output_type": "stream",
          "text": [
            "233168\n"
          ],
          "name": "stdout"
        }
      ]
    },
    {
      "cell_type": "markdown",
      "metadata": {
        "id": "iUH4vR1x5Kmm"
      },
      "source": [
        "8) Find the sum of the even valued Fibonacci numbers below 1000."
      ]
    },
    {
      "cell_type": "code",
      "metadata": {
        "id": "HMflGejq5NGx",
        "outputId": "6058a3ec-aec6-4f33-eb95-ccf873425eb0",
        "colab": {
          "base_uri": "https://localhost:8080/"
        }
      },
      "source": [
        "sum = 0\n",
        "num1 = 0\n",
        "num2 = 1\n",
        "num3 = 0\n",
        "\n",
        "while True:\n",
        "  num3 = num1 + num2\n",
        "  num1 = num2\n",
        "  num2 = num3\n",
        "\n",
        "  if num3 > 1000:\n",
        "    break\n",
        "  \n",
        "  if num3 % 2 == 0:\n",
        "    sum += num3\n",
        "    print(num3)\n",
        "\n",
        "print(\"The sum of all even values in the Fibonacci sequence below 1000 is:\", sum)"
      ],
      "execution_count": 96,
      "outputs": [
        {
          "output_type": "stream",
          "text": [
            "2\n",
            "8\n",
            "34\n",
            "144\n",
            "610\n",
            "The sum of all even values in the Fibonacci sequence below 1000 is: 798\n"
          ],
          "name": "stdout"
        }
      ]
    },
    {
      "cell_type": "markdown",
      "metadata": {
        "id": "FXO0qwGb9aY-"
      },
      "source": [
        "9) Extra Credit: https://projecteuler.net/problem=30\n"
      ]
    },
    {
      "cell_type": "code",
      "metadata": {
        "id": "BFDhCJod9dMw",
        "outputId": "55e61060-5a09-4a2d-98a7-f895a39f91ea",
        "colab": {
          "base_uri": "https://localhost:8080/"
        }
      },
      "source": [
        "import math\n",
        "\n",
        "powerSum = 0\n",
        "\n",
        "for num in range(10, 1000000):\n",
        "  sum = 0\n",
        "  x = num\n",
        "  while x != 0:\n",
        "    mod = x % 10\n",
        "    \n",
        "    mod = mod**5\n",
        "\n",
        "    sum += mod\n",
        "    x = math.floor(x/10)\n",
        "  \n",
        "  if sum == num:\n",
        "    print(num)\n",
        "    powerSum += num\n",
        "\n",
        "print(\"The sum of all the numbers that can be written as the sum of fifth powers of their digits is:\", powerSum)"
      ],
      "execution_count": 153,
      "outputs": [
        {
          "output_type": "stream",
          "text": [
            "4150\n",
            "4151\n",
            "54748\n",
            "92727\n",
            "93084\n",
            "194979\n",
            "The sum of all the numbers that can be written as the sum of fifth powers of their digits is: 443839\n"
          ],
          "name": "stdout"
        }
      ]
    }
  ]
}