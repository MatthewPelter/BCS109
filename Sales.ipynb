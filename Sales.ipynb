{
  "nbformat": 4,
  "nbformat_minor": 0,
  "metadata": {
    "colab": {
      "name": "Sales.ipynb",
      "provenance": [],
      "collapsed_sections": [],
      "authorship_tag": "ABX9TyOoy8+1hMpnvmch+sH2YKD4",
      "include_colab_link": true
    },
    "kernelspec": {
      "name": "python3",
      "display_name": "Python 3"
    }
  },
  "cells": [
    {
      "cell_type": "markdown",
      "metadata": {
        "id": "view-in-github",
        "colab_type": "text"
      },
      "source": [
        "<a href=\"https://colab.research.google.com/github/MatthewPelter/BCS109/blob/master/Sales.ipynb\" target=\"_parent\"><img src=\"https://colab.research.google.com/assets/colab-badge.svg\" alt=\"Open In Colab\"/></a>"
      ]
    },
    {
      "cell_type": "markdown",
      "metadata": {
        "id": "Ozw4ru656DLH",
        "colab_type": "text"
      },
      "source": [
        "# Sales\n",
        "Asking the user for number of packages then displaying the amount of the discount and total amount after the discount.\n",
        "\n",
        "---\n",
        "\n"
      ]
    },
    {
      "cell_type": "code",
      "metadata": {
        "id": "hsmR0PrS599n",
        "colab_type": "code",
        "colab": {
          "base_uri": "https://localhost:8080/",
          "height": 68
        },
        "outputId": "ff333aae-9293-4eea-e952-50d62cdc3109"
      },
      "source": [
        "PRICE = 99.0\n",
        "amount = int(input(\"Please enter the amount of packages you are purchasing: \"))\n",
        "price = 0.0\n",
        "\n",
        "if amount >= 10 and amount <= 19:\n",
        "  price = amount * PRICE * (1-0.1)\n",
        "  print(\"Your discount is 10%\")\n",
        "  print(\"The final cost including discount is: ${0:.2f}.\".format(price))\n",
        "elif amount >= 20 and amount <= 49:\n",
        "  price = amount * PRICE * (1-0.2)\n",
        "  print(\"Your discount is 20%\")\n",
        "  print(\"The final cost including discount is: ${0:.2f}.\".format(price))\n",
        "elif amount >= 50 and amount <= 99:\n",
        "  price = amount * PRICE * (1-0.3)\n",
        "  print(\"Your discount is 30%\")\n",
        "  print(\"The final cost including discount is: ${0:.2f}.\".format(price))\n",
        "elif amount >= 100:\n",
        "  price = amount * PRICE * (1-0.4)\n",
        "  print(\"Your discount is 40%\")\n",
        "  print(\"The final cost including discount is: ${0:.2f}.\".format(price))"
      ],
      "execution_count": 18,
      "outputs": [
        {
          "output_type": "stream",
          "text": [
            "Please enter the amount of packages you are purchasing: 58\n",
            "Your discount is 30%\n",
            "The final cost including discount is: $4019.40.\n"
          ],
          "name": "stdout"
        }
      ]
    },
    {
      "cell_type": "markdown",
      "metadata": {
        "id": "nQkN6R7q9kVi",
        "colab_type": "text"
      },
      "source": [
        "# Shipping\n",
        "User enters weight of the package and the shipping charges will be displayed based on weight.\n",
        "\n",
        "---\n",
        "\n"
      ]
    },
    {
      "cell_type": "code",
      "metadata": {
        "id": "-7QS-Q-Z9nms",
        "colab_type": "code",
        "colab": {
          "base_uri": "https://localhost:8080/",
          "height": 51
        },
        "outputId": "eaef9f9c-ab2a-4317-bf92-fed6a0567bc5"
      },
      "source": [
        "weight = float(input(\"Please enter the weight of your package (lbs): \"))\n",
        "price = 0.0\n",
        "\n",
        "if weight <= 2:\n",
        "  price = weight * 1.5\n",
        "  print(\"Your shipping cost is ${0:.2f}\".format(price))\n",
        "elif weight > 2 and weight <= 6:\n",
        "  price = weight * 3.0\n",
        "  print(\"Your shipping cost is ${0:.2f}\".format(price))\n",
        "elif weight > 6 and weight <= 10:\n",
        "  price = weight * 4.0\n",
        "  print(\"Your shipping cost is ${0:.2f}\".format(price))\n",
        "elif weight > 10:\n",
        "  price = weight * 4.75\n",
        "  print(\"Your shipping cost is ${0:.2f}\".format(price))"
      ],
      "execution_count": 17,
      "outputs": [
        {
          "output_type": "stream",
          "text": [
            "Please enter the weight of your package (lbs): 6.3\n",
            "Your shipping cost is $25.20\n"
          ],
          "name": "stdout"
        }
      ]
    }
  ]
}