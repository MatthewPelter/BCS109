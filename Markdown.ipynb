{
  "nbformat": 4,
  "nbformat_minor": 0,
  "metadata": {
    "colab": {
      "name": "Markdown.ipynb",
      "provenance": [],
      "collapsed_sections": []
    },
    "kernelspec": {
      "name": "python3",
      "display_name": "Python 3"
    }
  },
  "cells": [
    {
      "cell_type": "markdown",
      "metadata": {
        "id": "pniNb4f9mbsB",
        "colab_type": "text"
      },
      "source": [
        "<h1>Welcome</h1>\n",
        "My name is <b><u>Matthew Pelter</u></b>\n",
        "</br>\n",
        "In my free time, I like to <i>work on cars and repair them</i>.\n",
        "</br>\n",
        "I also like to <i>code</i> and I know these langauges.\n",
        "<li>Python</li>\n",
        "<li>HTML | CSS | Javascript</li>\n",
        "<li>C++</li>\n",
        "<li>PHP</li>"
      ]
    }
  ]
}